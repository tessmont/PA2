{
 "cells": [
  {
   "cell_type": "markdown",
   "id": "04345ae9",
   "metadata": {},
   "source": [
    "# Programming Assignment 2"
   ]
  },
  {
   "cell_type": "markdown",
   "id": "d1886d62",
   "metadata": {},
   "source": [
    "## Tess Montgomery"
   ]
  },
  {
   "cell_type": "markdown",
   "id": "14cb9f8f",
   "metadata": {},
   "source": [
    "### Version 1 - CS 150-ON Fall 2023"
   ]
  },
  {
   "cell_type": "markdown",
   "id": "12091173",
   "metadata": {},
   "source": [
    "#### Task 1: Personal Information"
   ]
  },
  {
   "cell_type": "code",
   "execution_count": 4,
   "id": "53f1f4d9",
   "metadata": {},
   "outputs": [],
   "source": [
    "name=\"Tess Montgomery\""
   ]
  },
  {
   "cell_type": "code",
   "execution_count": 5,
   "id": "502f413a",
   "metadata": {},
   "outputs": [],
   "source": [
    "age=53"
   ]
  },
  {
   "cell_type": "code",
   "execution_count": 6,
   "id": "0418c57d",
   "metadata": {},
   "outputs": [],
   "source": [
    "height=172.2"
   ]
  },
  {
   "cell_type": "code",
   "execution_count": 33,
   "id": "37bac1f8",
   "metadata": {},
   "outputs": [],
   "source": [
    "color=\"green\""
   ]
  },
  {
   "cell_type": "code",
   "execution_count": 39,
   "id": "bcab61a0",
   "metadata": {},
   "outputs": [
    {
     "name": "stdout",
     "output_type": "stream",
     "text": [
      "My name is Tess Montgomery, I am 53 years old, I am 172.2 cm tall, and my favorite color is green.\n"
     ]
    }
   ],
   "source": [
    "print(\"My name is \"+ name + \", I am \"+ str(age) +\" years old, I am \"+ str(height) + \" cm tall, and my favorite color is \"+ color + \".\")"
   ]
  },
  {
   "cell_type": "markdown",
   "id": "b0c9a9df",
   "metadata": {},
   "source": [
    "#### Task 2: Temperature Conversion"
   ]
  },
  {
   "cell_type": "code",
   "execution_count": 2,
   "id": "021c01b9",
   "metadata": {},
   "outputs": [],
   "source": [
    "celcius_temp=30"
   ]
  },
  {
   "cell_type": "code",
   "execution_count": 5,
   "id": "b857c570",
   "metadata": {},
   "outputs": [],
   "source": [
    "ftemp=celcius_temp * (9/5) + 32"
   ]
  },
  {
   "cell_type": "code",
   "execution_count": 6,
   "id": "6f56aea9",
   "metadata": {},
   "outputs": [
    {
     "name": "stdout",
     "output_type": "stream",
     "text": [
      "86.0\n"
     ]
    }
   ],
   "source": [
    "print(ftemp)"
   ]
  },
  {
   "cell_type": "code",
   "execution_count": 7,
   "id": "2e991bf2",
   "metadata": {},
   "outputs": [
    {
     "name": "stdout",
     "output_type": "stream",
     "text": [
      "The temperature is 30 C, which is 86.0 F.\n"
     ]
    }
   ],
   "source": [
    "print(\"The temperature is \" + str(celcius_temp) + \" C, which is \" + str(ftemp) + \" F.\")"
   ]
  },
  {
   "cell_type": "markdown",
   "id": "23b21d0c",
   "metadata": {},
   "source": [
    "#### Task 3: Simple Calculator"
   ]
  },
  {
   "cell_type": "code",
   "execution_count": 44,
   "id": "19f6a714",
   "metadata": {},
   "outputs": [],
   "source": [
    "num1=10"
   ]
  },
  {
   "cell_type": "code",
   "execution_count": 45,
   "id": "dedea1d6",
   "metadata": {},
   "outputs": [],
   "source": [
    "num2=17"
   ]
  },
  {
   "cell_type": "code",
   "execution_count": 46,
   "id": "abf7beb8",
   "metadata": {},
   "outputs": [
    {
     "name": "stdout",
     "output_type": "stream",
     "text": [
      "27\n"
     ]
    }
   ],
   "source": [
    "print(num1 + num2)"
   ]
  },
  {
   "cell_type": "code",
   "execution_count": 47,
   "id": "e02caf9a",
   "metadata": {},
   "outputs": [
    {
     "name": "stdout",
     "output_type": "stream",
     "text": [
      "7\n"
     ]
    }
   ],
   "source": [
    "print(num2 - num1)"
   ]
  },
  {
   "cell_type": "code",
   "execution_count": 48,
   "id": "8e4cbe80",
   "metadata": {},
   "outputs": [
    {
     "name": "stdout",
     "output_type": "stream",
     "text": [
      "170\n"
     ]
    }
   ],
   "source": [
    "print(num1 * num2)"
   ]
  },
  {
   "cell_type": "code",
   "execution_count": 49,
   "id": "c19805c4",
   "metadata": {},
   "outputs": [
    {
     "name": "stdout",
     "output_type": "stream",
     "text": [
      "0.5882352941176471\n"
     ]
    }
   ],
   "source": [
    "print(num1 / num2)"
   ]
  },
  {
   "cell_type": "markdown",
   "id": "81b4920c",
   "metadata": {},
   "source": [
    "#### Task 4: String Manipulation"
   ]
  },
  {
   "cell_type": "code",
   "execution_count": 9,
   "id": "09a32b99",
   "metadata": {},
   "outputs": [],
   "source": [
    "quote=\"You may say I'm a dreamer, but I'm not the only one. I hope someday you'll join us. And the world will live as one.\""
   ]
  },
  {
   "cell_type": "code",
   "execution_count": 51,
   "id": "85504cfa",
   "metadata": {},
   "outputs": [
    {
     "data": {
      "text/plain": [
       "115"
      ]
     },
     "execution_count": 51,
     "metadata": {},
     "output_type": "execute_result"
    }
   ],
   "source": [
    "len(quote)"
   ]
  },
  {
   "cell_type": "code",
   "execution_count": 53,
   "id": "288dab8b",
   "metadata": {},
   "outputs": [
    {
     "name": "stdout",
     "output_type": "stream",
     "text": [
      "YOU MAY SAY I'M A DREAMER, BUT I'M NOT THE ONLY ONE. I HOPE SOMEDAY YOU'LL JOIN US. AND THE WORLD WILL LIVE AS ONE.\n"
     ]
    }
   ],
   "source": [
    "quote1=quote.upper()\n",
    "print(quote1)"
   ]
  },
  {
   "cell_type": "code",
   "execution_count": 54,
   "id": "0669e895",
   "metadata": {},
   "outputs": [
    {
     "name": "stdout",
     "output_type": "stream",
     "text": [
      "you may say i'm a dreamer, but i'm not the only one. i hope someday you'll join us. and the world will live as one.\n"
     ]
    }
   ],
   "source": [
    "quote2=quote.lower()\n",
    "print(quote2)"
   ]
  },
  {
   "cell_type": "code",
   "execution_count": 13,
   "id": "6188087e",
   "metadata": {},
   "outputs": [
    {
     "data": {
      "text/plain": [
       "\"YoumaysayI'madreamer,butI'mnottheonlyone.Ihopesomedayyou'lljoinus.Andtheworldwillliveasone.\""
      ]
     },
     "execution_count": 13,
     "metadata": {},
     "output_type": "execute_result"
    }
   ],
   "source": [
    "quote.replace(\" \", \"\")"
   ]
  },
  {
   "cell_type": "code",
   "execution_count": 61,
   "id": "958da7ec",
   "metadata": {},
   "outputs": [
    {
     "name": "stdout",
     "output_type": "stream",
     "text": [
      "You may say I'm a dreamer,\n",
      "but I'm not the only one.\n",
      "I hope someday you'll join us.\n",
      "And the world will live as one.\n"
     ]
    }
   ],
   "source": [
    "print(\"You may say I'm a dreamer,\" + \"\\n\" + \"but I'm not the only one.\" + \"\\n\" + \"I hope someday you'll join us.\" + \"\\n\" + \"And the world will live as one.\")"
   ]
  },
  {
   "cell_type": "markdown",
   "id": "acb8bf65",
   "metadata": {},
   "source": [
    "#### Task 5: User Input and Integer Operations"
   ]
  },
  {
   "cell_type": "code",
   "execution_count": 64,
   "id": "75d4ff9e",
   "metadata": {},
   "outputs": [],
   "source": [
    "number=int(22)\n",
    "number2=int(33)"
   ]
  },
  {
   "cell_type": "code",
   "execution_count": 65,
   "id": "5d7b6b36",
   "metadata": {},
   "outputs": [
    {
     "name": "stdout",
     "output_type": "stream",
     "text": [
      "55\n",
      "11\n",
      "726\n",
      "0.6666666666666666\n"
     ]
    }
   ],
   "source": [
    "print(number + number2)\n",
    "print(number2 - number)\n",
    "print(number * number2)\n",
    "print(number / number2)"
   ]
  },
  {
   "cell_type": "code",
   "execution_count": null,
   "id": "c2f68fa7",
   "metadata": {},
   "outputs": [],
   "source": []
  }
 ],
 "metadata": {
  "kernelspec": {
   "display_name": "Python 3 (ipykernel)",
   "language": "python",
   "name": "python3"
  },
  "language_info": {
   "codemirror_mode": {
    "name": "ipython",
    "version": 3
   },
   "file_extension": ".py",
   "mimetype": "text/x-python",
   "name": "python",
   "nbconvert_exporter": "python",
   "pygments_lexer": "ipython3",
   "version": "3.11.5"
  }
 },
 "nbformat": 4,
 "nbformat_minor": 5
}
